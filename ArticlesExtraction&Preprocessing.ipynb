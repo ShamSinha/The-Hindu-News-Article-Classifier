{
 "cells": [
  {
   "cell_type": "code",
   "execution_count": 44,
   "id": "7d986cb0",
   "metadata": {},
   "outputs": [],
   "source": [
    "import selenium.webdriver as webdriver\n",
    "import time\n",
    "import sqlite3"
   ]
  },
  {
   "cell_type": "code",
   "execution_count": 45,
   "id": "3684b44c",
   "metadata": {},
   "outputs": [],
   "source": [
    "PATH = \"C:\\Program Files (x86)\\chromedriver.exe\"\n",
    "driver = webdriver.Chrome(PATH)"
   ]
  },
  {
   "cell_type": "code",
   "execution_count": 46,
   "id": "14424a0d",
   "metadata": {},
   "outputs": [],
   "source": [
    "def insertVaribleIntoArticleTable(article_id , article, label):\n",
    "    try:\n",
    "        sqliteConnection = sqlite3.connect('ArticlesDatabase.db')\n",
    "        cursor = sqliteConnection.cursor()\n",
    "        print(\"Connected to SQLite\")\n",
    "\n",
    "        sqlite_insert_with_param = \"\"\"insert into articles_tb(article_id,article, label) values (?,?,?);\"\"\"\n",
    "\n",
    "        data_tuple = (article_id,article,label)\n",
    "        cursor.execute(sqlite_insert_with_param, data_tuple)\n",
    "        sqliteConnection.commit()\n",
    "        print(\"Python Variables inserted successfully in articles_tb\")\n",
    "        \n",
    "        cursor.close()\n",
    "\n",
    "    except sqlite3.Error as error:\n",
    "        print(\"Failed to insert Python variable into sqlite table\", error)\n",
    "    finally:\n",
    "        if sqliteConnection:\n",
    "            sqliteConnection.close()\n",
    "            print(\"The SQLite connection is closed\")"
   ]
  },
  {
   "cell_type": "code",
   "execution_count": 47,
   "id": "628d3ee6",
   "metadata": {},
   "outputs": [],
   "source": [
    "### code for extracting required article text given its link\n",
    "def get_article_text(link):\n",
    "    driver.get(link)\n",
    "    time.sleep(1)\n",
    "    txt = \"\"\n",
    "    try:\n",
    "        content = driver.find_element_by_css_selector('[id^=content-body]')\n",
    "        para = content.find_elements_by_tag_name('p')\n",
    "    except :\n",
    "        return txt\n",
    "    else:\n",
    "        for i in range(len(para)):\n",
    "            txt = txt + \" \" + para[i].text\n",
    "        return txt"
   ]
  },
  {
   "cell_type": "code",
   "execution_count": 48,
   "id": "91f43d93",
   "metadata": {},
   "outputs": [],
   "source": [
    "### if article text is extracted successfully then update column used = 1 for link of article extracted in articles_link_tb table \n",
    "def update_finished_article(art_id):\n",
    "    try:\n",
    "        sqliteConnection = sqlite3.connect('ArticlesDatabase.db')\n",
    "        cursor = sqliteConnection.cursor()\n",
    "        print(\"Connected to SQLite\")\n",
    "\n",
    "        query = \"UPDATE articles_link_tb SET used = 1 WHERE art_id =\" + str(art_id)\n",
    "\n",
    "        cursor.execute(query)\n",
    "        sqliteConnection.commit()\n",
    "        print(\"Python Variables updated successfully in articles_link_tb\")\n",
    "        \n",
    "        cursor.close()\n",
    "\n",
    "    except sqlite3.Error as error:\n",
    "        print(\"Failed to update Python variable into sqlite table\", error)\n",
    "    finally:\n",
    "        if sqliteConnection:\n",
    "            sqliteConnection.close()\n",
    "            print(\"The SQLite connection is closed\")"
   ]
  },
  {
   "cell_type": "code",
   "execution_count": 49,
   "id": "ba59d404",
   "metadata": {},
   "outputs": [],
   "source": [
    "import nltk\n",
    "from nltk.corpus import stopwords \n",
    "import re\n",
    "import string\n",
    "import contractions\n",
    "from nltk.tokenize import word_tokenize\n",
    "from nltk.stem import WordNetLemmatizer\n",
    "lemmatizer = WordNetLemmatizer()"
   ]
  },
  {
   "cell_type": "code",
   "execution_count": 50,
   "id": "c7dfe045",
   "metadata": {},
   "outputs": [],
   "source": [
    "### preprocessing of article text extracted from link\n",
    "def process_text(text):\n",
    "    \n",
    "    expanded_words = []    \n",
    "    for word in text.split():\n",
    "      # using contractions.fix to expand the shotened words\n",
    "      expanded_words.append(contractions.fix(word))   \n",
    "\n",
    "    text = ' '.join(expanded_words)\n",
    "    \n",
    "    text = text.lower().replace('\\n',' ').replace('\\r','').replace('-', ' ').strip()  \n",
    "    text = re.sub(' +', ' ', text)\n",
    "    text = re.sub(r'[^\\w\\s]','',text)\n",
    "    text = re.sub(r'\\d+', '', text)   # remove numbers\n",
    "    \n",
    "    \n",
    "    stop_words = set(stopwords.words('english'))   ### remove english words from text\n",
    "    word_tokens = word_tokenize(text) \n",
    "    filtered_sentence = [] \n",
    "    for w in word_tokens: \n",
    "        if w not in stop_words: \n",
    "            filtered_sentence.append(w) \n",
    "    \n",
    "    lemmas = []\n",
    "    for word in filtered_sentence:\n",
    "        lemmas.append(lemmatizer.lemmatize(word, pos ='v'))  ### Lemmatization by verb\n",
    "    \n",
    "    text = \" \".join(lemmas)\n",
    "    \n",
    "    return text"
   ]
  },
  {
   "cell_type": "code",
   "execution_count": 51,
   "id": "9184bcaf",
   "metadata": {},
   "outputs": [],
   "source": [
    "def create_connection(db_file):\n",
    "    \"\"\" create a database connection to the SQLite database\n",
    "        specified by the db_file\n",
    "    :param db_file: database file\n",
    "    :return: Connection object or None\n",
    "    \"\"\"\n",
    "    conn = None\n",
    "    try:\n",
    "        conn = sqlite3.connect(db_file)\n",
    "    except Error as e:\n",
    "        print(e)\n",
    "\n",
    "    return conn"
   ]
  },
  {
   "cell_type": "code",
   "execution_count": 54,
   "id": "fa84c340",
   "metadata": {},
   "outputs": [],
   "source": [
    "### list of queries used for extract articles by its topic and by its size\n",
    "\n",
    "QUERY = []"
   ]
  },
  {
   "cell_type": "code",
   "execution_count": 55,
   "id": "7503314d",
   "metadata": {},
   "outputs": [],
   "source": [
    "### write as much as queries you want by topic\n",
    "\n",
    "query = \"\"\"SELECT art_id,link,label FROM articles_link_tb WHERE used = 0 AND label = \"Society\" ORDER BY RANDOM() LIMIT 1000 \"\"\"\n",
    "QUERY.append(query)\n",
    "\n",
    "query = \"\"\"SELECT art_id,link,label FROM articles_link_tb WHERE used = 0 AND label = \"Cricket\" ORDER BY RANDOM() LIMIT 1000 \"\"\"\n",
    "QUERY.append(query)\n",
    "\n",
    "query = \"\"\"SELECT art_id,link,label FROM articles_link_tb WHERE used = 0 AND label = \"Football\" ORDER BY RANDOM() LIMIT 1000 \"\"\"\n",
    "QUERY.append(query)\n",
    "\n",
    "query = \"\"\"SELECT art_id,link,label FROM articles_link_tb WHERE used = 0 AND label = \"International\" ORDER BY RANDOM() LIMIT 1000 \"\"\"\n",
    "QUERY.append(query)"
   ]
  },
  {
   "cell_type": "code",
   "execution_count": 56,
   "id": "c928facf",
   "metadata": {},
   "outputs": [],
   "source": [
    "def extract_article(query):\n",
    "    rows = []\n",
    "    ### this code extract article links of particular label from article_links_tb table\n",
    "    try:\n",
    "        conn = create_connection('ArticlesDatabase.db')\n",
    "        curr = conn.cursor()\n",
    "        \n",
    "        ### modify this query according to the label and its number you want \n",
    "        \n",
    "        curr.execute(query)\n",
    "        rows = curr.fetchall()\n",
    "\n",
    "        conn.commit()\n",
    "        print(\"Python Variables successfully selected from articles_link_tb \" )\n",
    "\n",
    "        curr.close()\n",
    "\n",
    "    except sqlite3.Error as error:\n",
    "        print(\"Failed to select Python variable from sqlite table\", error)\n",
    "    finally:\n",
    "        if conn:\n",
    "            conn.close()\n",
    "            print(\"The SQLite connection is closed\")\n",
    "    \n",
    "    ### this code extract all articles from its given link and then preprocess and store in article_tb table\n",
    "    for row in rows:\n",
    "        try:\n",
    "            article_id = row[0]\n",
    "            text = get_article_text(row[1])    ### getting text using link\n",
    "            if text == \"\" :   \n",
    "                continue  ## lets say due to some issue text extracted is an empty string then jump to next link for extraction\n",
    "            article = process_text(text)\n",
    "            label = row[2]\n",
    "          \n",
    "            insertVaribleIntoArticleTable(article_id,article,label)\n",
    "        except:\n",
    "            continue\n",
    "        else:\n",
    "            ### after insert text in articles_tb update articles_link_tb that this link is used.\n",
    "            update_finished_article(article_id)"
   ]
  },
  {
   "cell_type": "code",
   "execution_count": null,
   "id": "e06092d0",
   "metadata": {},
   "outputs": [],
   "source": [
    "### run this automate articles text extraction\n",
    "\n",
    "for qu in QUERY:\n",
    "    extract_article(qu)"
   ]
  }
 ],
 "metadata": {
  "kernelspec": {
   "display_name": "Python 3",
   "language": "python",
   "name": "python3"
  },
  "language_info": {
   "codemirror_mode": {
    "name": "ipython",
    "version": 3
   },
   "file_extension": ".py",
   "mimetype": "text/x-python",
   "name": "python",
   "nbconvert_exporter": "python",
   "pygments_lexer": "ipython3",
   "version": "3.8.8"
  }
 },
 "nbformat": 4,
 "nbformat_minor": 5
}
