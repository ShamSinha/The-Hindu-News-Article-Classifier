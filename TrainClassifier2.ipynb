{
  "nbformat": 4,
  "nbformat_minor": 0,
  "metadata": {
    "colab": {
      "name": "TrainClassifier2.ipynb",
      "provenance": []
    },
    "kernelspec": {
      "name": "python3",
      "display_name": "Python 3"
    },
    "language_info": {
      "name": "python"
    }
  },
  "cells": [
    {
      "cell_type": "code",
      "metadata": {
        "id": "uMepS6PA54e-"
      },
      "source": [
        "!pip install -U scikit-learn==0.24.1"
      ],
      "execution_count": null,
      "outputs": []
    },
    {
      "cell_type": "code",
      "metadata": {
        "id": "Cx4H7kfq6DPo"
      },
      "source": [
        "import pandas as pd\n",
        "import sqlite3"
      ],
      "execution_count": 2,
      "outputs": []
    },
    {
      "cell_type": "code",
      "metadata": {
        "colab": {
          "base_uri": "https://localhost:8080/"
        },
        "id": "V69Vxs4e6DSx",
        "outputId": "077020f7-5f2d-4dda-99f4-662c73354782"
      },
      "source": [
        "from google.colab import drive\n",
        "drive.mount('/content/drive')"
      ],
      "execution_count": 3,
      "outputs": [
        {
          "output_type": "stream",
          "text": [
            "Mounted at /content/drive\n"
          ],
          "name": "stdout"
        }
      ]
    },
    {
      "cell_type": "code",
      "metadata": {
        "id": "oMg_4zbj6DUy"
      },
      "source": [
        "def create_connection(db_file):\n",
        "    \"\"\" create a database connection to the SQLite database\n",
        "        specified by the db_file\n",
        "    :param db_file: database file\n",
        "    :return: Connection object or None\n",
        "    \"\"\"\n",
        "    conn = None\n",
        "    try:\n",
        "        conn = sqlite3.connect(db_file)\n",
        "    except Error as e:\n",
        "        print(e)\n",
        "\n",
        "    return conn"
      ],
      "execution_count": 4,
      "outputs": []
    },
    {
      "cell_type": "code",
      "metadata": {
        "colab": {
          "base_uri": "https://localhost:8080/"
        },
        "id": "wDfMAJvr6DXI",
        "outputId": "95154154-2142-4339-92dc-bfb4a8f2e83d"
      },
      "source": [
        "from nltk.stem import WordNetLemmatizer\n",
        "lemmatizer = WordNetLemmatizer()\n",
        "from nltk.tokenize import word_tokenize\n",
        "import nltk\n",
        "nltk.download('punkt')\n",
        "nltk.download('wordnet')\n",
        "\n",
        "### Lemmatization by noun (further preprocessing)\n",
        "def process_n(text):\n",
        "    txt = []\n",
        "    word_tokens = word_tokenize(text) \n",
        "    for w in word_tokens:\n",
        "        txt.append(lemmatizer.lemmatize(w, pos ='n'))\n",
        "    text_p = \" \".join(txt)\n",
        "    return text_p"
      ],
      "execution_count": 5,
      "outputs": [
        {
          "output_type": "stream",
          "text": [
            "[nltk_data] Downloading package punkt to /root/nltk_data...\n",
            "[nltk_data]   Unzipping tokenizers/punkt.zip.\n",
            "[nltk_data] Downloading package wordnet to /root/nltk_data...\n",
            "[nltk_data]   Unzipping corpora/wordnet.zip.\n"
          ],
          "name": "stdout"
        }
      ]
    },
    {
      "cell_type": "code",
      "metadata": {
        "colab": {
          "base_uri": "https://localhost:8080/"
        },
        "id": "_wsPnX7i6Dal",
        "outputId": "91051dca-a7f4-401f-ed5e-3f695235b9a0"
      },
      "source": [
        "### this code extract article text with its label from sqlite table and store in the list Articles and Class\n",
        "rows = []\n",
        "try:\n",
        "    conn = create_connection('/content/drive/MyDrive/ArticlesDatabaseM.db')\n",
        "    curr = conn.cursor()\n",
        "    query = \"\"\"SELECT article,label FROM articles_tb EXCEPT SELECT article,label FROM articles_tb WHERE label = \"Chennai\" OR label = \"Karnataka\" OR label = \"Kerala\" OR label = \"Tamil Nadu\" OR label = \"Hyderabad\" OR label = \"Mumbai\" OR label = \"Bengaluru\"  \"\"\"\n",
        "    curr.execute(query)\n",
        "    rows = curr.fetchall()\n",
        "\n",
        "    conn.commit()\n",
        "    print(\"Python Variables successfully selected from articles_link_tb \" )\n",
        "\n",
        "    curr.close()\n",
        "\n",
        "except sqlite3.Error as error:\n",
        "    print(\"Failed to select Python variable from sqlite table\", error)\n",
        "finally:\n",
        "      conn.close()\n",
        "      print(\"The SQLite connection is closed\")\n",
        "\n",
        "Articles = []\n",
        "Class = []\n",
        "for row in rows:\n",
        "    Articles.append(process_n(row[0]))\n",
        "    Class.append(row[1])"
      ],
      "execution_count": 6,
      "outputs": [
        {
          "output_type": "stream",
          "text": [
            "Python Variables successfully selected from articles_link_tb \n",
            "The SQLite connection is closed\n"
          ],
          "name": "stdout"
        }
      ]
    },
    {
      "cell_type": "code",
      "metadata": {
        "colab": {
          "base_uri": "https://localhost:8080/"
        },
        "id": "3CVPkxq26Pv_",
        "outputId": "1612ff25-2d24-41af-d59e-28a3ebdd875e"
      },
      "source": [
        "### creating pandas dataframe from the extracted data\n",
        "data = {'Article':Articles,\n",
        "\t\t'Class':Class}\n",
        "\n",
        "# Create DataFrame\n",
        "df = pd.DataFrame(data)\n",
        "\n",
        "# Print the output.\n",
        "print(df)"
      ],
      "execution_count": 7,
      "outputs": [
        {
          "output_type": "stream",
          "text": [
            "                                                 Article          Class\n",
            "0                                                                 Books\n",
            "1                                                               Cricket\n",
            "2                                                             Education\n",
            "3                                                             Elections\n",
            "4                                                         Entertainment\n",
            "...                                                  ...            ...\n",
            "48958  zumba bring back gate hell balance equation li...        Society\n",
            "48959  çelebi aviation hold grind handle licence hyde...       Business\n",
            "48960  école intuit lab open application école intuit...      Education\n",
            "48961  ït plan shoot say agasthya karthikeyan photogr...   Life & Style\n",
            "48962  škoda auto india unveil refresh superb range n...       Business\n",
            "\n",
            "[48963 rows x 2 columns]\n"
          ],
          "name": "stdout"
        }
      ]
    },
    {
      "cell_type": "code",
      "metadata": {
        "id": "Q_AQ6IC26PyR"
      },
      "source": [
        "from sklearn import preprocessing\n",
        "from sklearn.model_selection import train_test_split\n",
        "from sklearn.metrics import accuracy_score, classification_report\n",
        "\n",
        "label_encoder = preprocessing.LabelEncoder() \n",
        "data['Category_Class']= label_encoder.fit_transform(data['Class'])"
      ],
      "execution_count": 8,
      "outputs": []
    },
    {
      "cell_type": "code",
      "metadata": {
        "colab": {
          "base_uri": "https://localhost:8080/",
          "height": 494
        },
        "id": "xsAdN8Jd6P02",
        "outputId": "21e24f60-38e6-42c4-c616-a4c91b64426b"
      },
      "source": [
        "Thehindu = pd.DataFrame()\n",
        "Thehindu['Article'] = data['Article']\n",
        "Thehindu['Class'] = data['Class']\n",
        "Thehindu['Category_Class'] = data['Category_Class']\n",
        "print(Thehindu['Class'].value_counts())\n",
        "Thehindu.sample(5, random_state=0)"
      ],
      "execution_count": 9,
      "outputs": [
        {
          "output_type": "stream",
          "text": [
            "Life & Style     4641\n",
            "Business         4434\n",
            "Sci-Tech         3772\n",
            "Entertainment    3723\n",
            "Other Sports     3664\n",
            "Elections        3593\n",
            "Society          3591\n",
            "Tennis           2915\n",
            "Education        2743\n",
            "International    2726\n",
            "National         2520\n",
            "Football         2491\n",
            "Cricket          2437\n",
            "Books            1944\n",
            "Health           1905\n",
            "Environment      1864\n",
            "Name: Class, dtype: int64\n"
          ],
          "name": "stdout"
        },
        {
          "output_type": "execute_result",
          "data": {
            "text/html": [
              "<div>\n",
              "<style scoped>\n",
              "    .dataframe tbody tr th:only-of-type {\n",
              "        vertical-align: middle;\n",
              "    }\n",
              "\n",
              "    .dataframe tbody tr th {\n",
              "        vertical-align: top;\n",
              "    }\n",
              "\n",
              "    .dataframe thead th {\n",
              "        text-align: right;\n",
              "    }\n",
              "</style>\n",
              "<table border=\"1\" class=\"dataframe\">\n",
              "  <thead>\n",
              "    <tr style=\"text-align: right;\">\n",
              "      <th></th>\n",
              "      <th>Article</th>\n",
              "      <th>Class</th>\n",
              "      <th>Category_Class</th>\n",
              "    </tr>\n",
              "  </thead>\n",
              "  <tbody>\n",
              "    <tr>\n",
              "      <th>18336</th>\n",
              "      <td>high voltage entertainment former national cha...</td>\n",
              "      <td>Tennis</td>\n",
              "      <td>15</td>\n",
              "    </tr>\n",
              "    <tr>\n",
              "      <th>36003</th>\n",
              "      <td>russian track federation president step aside ...</td>\n",
              "      <td>Other Sports</td>\n",
              "      <td>12</td>\n",
              "    </tr>\n",
              "    <tr>\n",
              "      <th>9336</th>\n",
              "      <td>dance prince lady good catch eye horse exercis...</td>\n",
              "      <td>Other Sports</td>\n",
              "      <td>12</td>\n",
              "    </tr>\n",
              "    <tr>\n",
              "      <th>11325</th>\n",
              "      <td>duet hindustani classical music gimmick case e...</td>\n",
              "      <td>Entertainment</td>\n",
              "      <td>5</td>\n",
              "    </tr>\n",
              "    <tr>\n",
              "      <th>20536</th>\n",
              "      <td>indian tourist plan vacation southeast asia fa...</td>\n",
              "      <td>Life &amp; Style</td>\n",
              "      <td>10</td>\n",
              "    </tr>\n",
              "  </tbody>\n",
              "</table>\n",
              "</div>"
            ],
            "text/plain": [
              "                                                 Article  ... Category_Class\n",
              "18336  high voltage entertainment former national cha...  ...             15\n",
              "36003  russian track federation president step aside ...  ...             12\n",
              "9336   dance prince lady good catch eye horse exercis...  ...             12\n",
              "11325  duet hindustani classical music gimmick case e...  ...              5\n",
              "20536  indian tourist plan vacation southeast asia fa...  ...             10\n",
              "\n",
              "[5 rows x 3 columns]"
            ]
          },
          "metadata": {
            "tags": []
          },
          "execution_count": 9
        }
      ]
    },
    {
      "cell_type": "code",
      "metadata": {
        "colab": {
          "base_uri": "https://localhost:8080/"
        },
        "id": "FwA9BXML6P3_",
        "outputId": "28d0f513-788b-4d9e-b9cb-f310bda02286"
      },
      "source": [
        "class_num = []\n",
        "for x in range(16):\n",
        "  class_num.append(x)\n",
        "\n",
        "class_list = list(label_encoder.inverse_transform(class_num))\n",
        "print(class_list)"
      ],
      "execution_count": 10,
      "outputs": [
        {
          "output_type": "stream",
          "text": [
            "['Books', 'Business', 'Cricket', 'Education', 'Elections', 'Entertainment', 'Environment', 'Football', 'Health', 'International', 'Life & Style', 'National', 'Other Sports', 'Sci-Tech', 'Society', 'Tennis']\n"
          ],
          "name": "stdout"
        }
      ]
    },
    {
      "cell_type": "code",
      "metadata": {
        "id": "yuzYjvOr6P7a"
      },
      "source": [
        "import pickle\n",
        "from sklearn.feature_extraction.text import CountVectorizer\n",
        "\n",
        "\n",
        "#GET VECTOR COUNT\n",
        "count_vect = CountVectorizer()\n",
        "X_train_counts = count_vect.fit_transform(Thehindu.Article)\n"
      ],
      "execution_count": 11,
      "outputs": []
    },
    {
      "cell_type": "code",
      "metadata": {
        "id": "DQnPtTvF6key"
      },
      "source": [
        "from sklearn.feature_extraction.text import TfidfTransformer\n",
        "\n",
        "#TRANSFORM WORD VECTOR TO TF IDF\n",
        "tfidf_transformer = TfidfTransformer()\n",
        "X_train_tfidf = tfidf_transformer.fit_transform(X_train_counts)"
      ],
      "execution_count": 12,
      "outputs": []
    },
    {
      "cell_type": "code",
      "metadata": {
        "id": "wmr_CP4H6khg"
      },
      "source": [
        "from sklearn.model_selection import train_test_split\n",
        "\n",
        "X_train, X_test, y_train, y_test = train_test_split(X_train_tfidf, Thehindu.Category_Class, test_size=0.25, random_state=42)"
      ],
      "execution_count": 13,
      "outputs": []
    },
    {
      "cell_type": "code",
      "metadata": {
        "colab": {
          "base_uri": "https://localhost:8080/"
        },
        "id": "wk8m1CI384NC",
        "outputId": "10dd222b-8c65-4bd1-9466-ba39f8389e4c"
      },
      "source": [
        "X_train.shape"
      ],
      "execution_count": 16,
      "outputs": [
        {
          "output_type": "execute_result",
          "data": {
            "text/plain": [
              "(36722, 214370)"
            ]
          },
          "metadata": {
            "tags": []
          },
          "execution_count": 16
        }
      ]
    },
    {
      "cell_type": "code",
      "metadata": {
        "colab": {
          "base_uri": "https://localhost:8080/"
        },
        "id": "35Vk6_Zo8-bW",
        "outputId": "2a8c02dd-6bcd-4399-a74c-6b89fd98374b"
      },
      "source": [
        "y_train.shape"
      ],
      "execution_count": 17,
      "outputs": [
        {
          "output_type": "execute_result",
          "data": {
            "text/plain": [
              "(36722,)"
            ]
          },
          "metadata": {
            "tags": []
          },
          "execution_count": 17
        }
      ]
    },
    {
      "cell_type": "code",
      "metadata": {
        "colab": {
          "base_uri": "https://localhost:8080/"
        },
        "id": "L6TaBmmv6klF",
        "outputId": "9532c200-5850-4381-875c-ba72e84bea16"
      },
      "source": [
        "from sklearn.neural_network import MLPClassifier\n",
        "\n",
        "clf_neural = MLPClassifier( alpha=1e-5, hidden_layer_sizes=(100,50), random_state=1, verbose = True , activation = 'relu')\n",
        "\n",
        "clf_neural = clf_neural.fit(X_train, y_train)\n",
        "model_prediction_neural = clf_neural.predict(X_test)\n",
        "model_train_pred_neural = clf_neural.predict(X_train)"
      ],
      "execution_count": 19,
      "outputs": [
        {
          "output_type": "stream",
          "text": [
            "Iteration 1, loss = 1.36770474\n",
            "Iteration 2, loss = 0.31438625\n",
            "Iteration 3, loss = 0.12060038\n",
            "Iteration 4, loss = 0.04392108\n",
            "Iteration 5, loss = 0.01901581\n",
            "Iteration 6, loss = 0.01103989\n",
            "Iteration 7, loss = 0.00733460\n",
            "Iteration 8, loss = 0.00585118\n",
            "Iteration 9, loss = 0.00475521\n",
            "Iteration 10, loss = 0.00397098\n",
            "Iteration 11, loss = 0.00374809\n",
            "Iteration 12, loss = 0.00340828\n",
            "Iteration 13, loss = 0.00313277\n",
            "Iteration 14, loss = 0.00280444\n",
            "Iteration 15, loss = 0.00305886\n",
            "Iteration 16, loss = 0.00278191\n",
            "Iteration 17, loss = 0.00266400\n",
            "Iteration 18, loss = 0.00266689\n",
            "Iteration 19, loss = 0.00233027\n",
            "Iteration 20, loss = 0.00236825\n",
            "Iteration 21, loss = 0.00248455\n",
            "Iteration 22, loss = 0.00214052\n",
            "Iteration 23, loss = 0.00249962\n",
            "Iteration 24, loss = 0.00241671\n",
            "Iteration 25, loss = 0.00319207\n",
            "Iteration 26, loss = 0.00207648\n",
            "Iteration 27, loss = 0.00215778\n",
            "Iteration 28, loss = 0.00244980\n",
            "Iteration 29, loss = 0.00209449\n",
            "Iteration 30, loss = 0.00240606\n",
            "Iteration 31, loss = 0.00368124\n",
            "Iteration 32, loss = 0.00295066\n",
            "Iteration 33, loss = 0.00279231\n",
            "Training loss did not improve more than tol=0.000100 for 10 consecutive epochs. Stopping.\n"
          ],
          "name": "stdout"
        }
      ]
    },
    {
      "cell_type": "code",
      "metadata": {
        "colab": {
          "base_uri": "https://localhost:8080/"
        },
        "id": "T2SIRljw6vTZ",
        "outputId": "6077efa3-fba7-47d8-a9da-118fd401405e"
      },
      "source": [
        "print('accuracy on training set %s' % accuracy_score(model_train_pred_neural, y_train))\n",
        "print('accuracy on test set %s' % accuracy_score(model_prediction_neural, y_test))"
      ],
      "execution_count": 20,
      "outputs": [
        {
          "output_type": "stream",
          "text": [
            "accuracy on training set 0.9996732204128316\n",
            "accuracy on test set 0.8382485091087329\n"
          ],
          "name": "stdout"
        }
      ]
    },
    {
      "cell_type": "code",
      "metadata": {
        "colab": {
          "base_uri": "https://localhost:8080/"
        },
        "id": "SsxTgZF36vWz",
        "outputId": "c52848ed-66e3-4505-9e90-bd32dc993d82"
      },
      "source": [
        "print(classification_report(y_test, model_prediction_neural, target_names= class_list))"
      ],
      "execution_count": 21,
      "outputs": [
        {
          "output_type": "stream",
          "text": [
            "               precision    recall  f1-score   support\n",
            "\n",
            "        Books       0.87      0.71      0.78       544\n",
            "     Business       0.90      0.91      0.90      1078\n",
            "      Cricket       0.98      0.98      0.98       633\n",
            "    Education       0.81      0.90      0.85       686\n",
            "    Elections       0.91      0.94      0.93       920\n",
            "Entertainment       0.81      0.86      0.83       977\n",
            "  Environment       0.71      0.77      0.74       473\n",
            "     Football       0.99      0.99      0.99       636\n",
            "       Health       0.73      0.66      0.69       475\n",
            "International       0.81      0.85      0.83       642\n",
            " Life & Style       0.78      0.67      0.72      1164\n",
            "     National       0.73      0.67      0.70       618\n",
            " Other Sports       0.97      0.97      0.97       911\n",
            "     Sci-Tech       0.84      0.75      0.79       938\n",
            "      Society       0.60      0.73      0.66       857\n",
            "       Tennis       0.99      0.98      0.98       689\n",
            "\n",
            "     accuracy                           0.84     12241\n",
            "    macro avg       0.84      0.84      0.84     12241\n",
            " weighted avg       0.84      0.84      0.84     12241\n",
            "\n"
          ],
          "name": "stdout"
        }
      ]
    },
    {
      "cell_type": "code",
      "metadata": {
        "id": "PsrT-wVKK_1N"
      },
      "source": [
        "import pickle\n",
        "pickle.dump(clf_neural, open(\"/content/drive/MyDrive/tfidf_clf_model.pkl\", \"wb\"))"
      ],
      "execution_count": 26,
      "outputs": []
    },
    {
      "cell_type": "code",
      "metadata": {
        "id": "a0rQZFMsLbv-"
      },
      "source": [
        "#SAVE WORD VECTOR\n",
        "pickle.dump(count_vect.vocabulary_, open(\"/content/drive/MyDrive/count_vector.pkl\",\"wb\"))"
      ],
      "execution_count": 24,
      "outputs": []
    },
    {
      "cell_type": "code",
      "metadata": {
        "id": "KgWpqQwhLmfF"
      },
      "source": [
        "#SAVE TF-IDF\n",
        "pickle.dump(tfidf_transformer, open(\"/content/drive/MyDrive/tfidf.pkl\",\"wb\"))"
      ],
      "execution_count": 25,
      "outputs": []
    },
    {
      "cell_type": "code",
      "metadata": {
        "colab": {
          "base_uri": "https://localhost:8080/"
        },
        "id": "ZFmVVbYGMIej",
        "outputId": "847a1350-cb7e-4c83-b852-2f75c0752183"
      },
      "source": [
        "from sklearn.metrics import confusion_matrix  \n",
        "\n",
        "confusion_mat = confusion_matrix(y_test,model_prediction_neural)\n",
        "print(confusion_mat)"
      ],
      "execution_count": 27,
      "outputs": [
        {
          "output_type": "stream",
          "text": [
            "[[386   3   5  11   0  33   4   0   1   5   7   4   1   7  77   0]\n",
            " [  0 984   0   6   1   1   6   0   3  23   6  32   0  15   1   0]\n",
            " [  1   1 622   0   0   1   0   1   0   2   0   3   0   0   1   1]\n",
            " [  5   3   0 620   1   5   1   0   5   1  13   2   0  11  19   0]\n",
            " [  0   2   0   0 862   0   1   0   1   4   0  41   0   1   8   0]\n",
            " [ 12   2   1   4   3 837   7   0   1   6  29   2   0   4  67   2]\n",
            " [  1   5   0   2   0   5 366   0   4   7  17   7   0  24  35   0]\n",
            " [  0   0   0   0   0   0   0 628   0   5   0   1   1   0   1   0]\n",
            " [  1   5   0   9   1   3   8   0 313  14  49  13   1  41  17   0]\n",
            " [  2  14   0   2   1   5  11   0   6 547   3  33   0  11   6   1]\n",
            " [ 10  11   2  27   1  62  35   3  39   3 784   4  10   9 163   1]\n",
            " [  3  43   1  12  62   4  11   0  15  30   0 416   0   8  13   0]\n",
            " [  0   0   2   1   2   0   0   4   0   3   4   4 884   0   3   4]\n",
            " [  4  25   1  43   4  15  52   1  34  16  18   5   3 707  10   0]\n",
            " [ 19   1   2  28   5  62  12   0   7   6  74   4   3   6 628   0]\n",
            " [  0   0   0   1   0   2   0   0   0   0   1   0   6   0   2 677]]\n"
          ],
          "name": "stdout"
        }
      ]
    },
    {
      "cell_type": "code",
      "metadata": {
        "id": "TBc8nQNgNKMq"
      },
      "source": [
        "text = 'indias export rise billion june account healthy growth shipments sectors engineer gems jewellery petroleum products accord preliminary data commerce ministry import rise billion period data show export sectors engineer gems jewellery petroleum products record healthy growth rat export grow billion first week month billion second week month accord data export april may fiscal year jump billion billion period last year'"
      ],
      "execution_count": 29,
      "outputs": []
    },
    {
      "cell_type": "code",
      "metadata": {
        "colab": {
          "base_uri": "https://localhost:8080/"
        },
        "id": "aN6Oy0mBMtdV",
        "outputId": "87710bc5-2475-4a1a-d85b-d4960e05fa5b"
      },
      "source": [
        "#LOAD MODEL\n",
        "loaded_vec = CountVectorizer(vocabulary=pickle.load(open(\"/content/drive/MyDrive/count_vector.pkl\", \"rb\")))\n",
        "loaded_tfidf = pickle.load(open(\"/content/drive/MyDrive/tfidf.pkl\",\"rb\"))\n",
        "loaded_model = pickle.load(open(\"/content/drive/MyDrive/tfidf_clf_model.pkl\",\"rb\"))\n",
        "\n",
        "\n",
        "\n",
        "docs_new = [text]\n",
        "\n",
        "X_new_counts = loaded_vec.transform(docs_new)\n",
        "X_new_tfidf = loaded_tfidf.transform(X_new_counts)\n",
        "predicted = loaded_model.predict(X_new_tfidf)\n",
        "\n",
        "print(class_list[predicted[0]])"
      ],
      "execution_count": 30,
      "outputs": [
        {
          "output_type": "stream",
          "text": [
            "Business\n"
          ],
          "name": "stdout"
        }
      ]
    }
  ]
}