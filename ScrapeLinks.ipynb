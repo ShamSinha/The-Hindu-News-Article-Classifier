{
 "cells": [
  {
   "cell_type": "code",
   "execution_count": 1,
   "id": "67016a5f",
   "metadata": {},
   "outputs": [],
   "source": [
    "import selenium.webdriver as webdriver\n",
    "import time\n",
    "import sqlite3"
   ]
  },
  {
   "cell_type": "code",
   "execution_count": 2,
   "id": "f2a607c0",
   "metadata": {},
   "outputs": [],
   "source": [
    "PATH = \"C:\\Program Files (x86)\\chromedriver.exe\"\n",
    "driver = webdriver.Chrome(PATH)\n",
    "\n",
    "driver.get(\"https://www.thehindu.com/archive/web/\")"
   ]
  },
  {
   "cell_type": "code",
   "execution_count": 3,
   "id": "319d7457",
   "metadata": {},
   "outputs": [],
   "source": [
    "def func1(name):    \n",
    "    \"\"\"Get list of text in all element by class_name\"\"\"\n",
    "    all_elements = driver.find_elements_by_link_text(name)\n",
    "    return all_elements"
   ]
  },
  {
   "cell_type": "code",
   "execution_count": 4,
   "id": "cd357a78",
   "metadata": {},
   "outputs": [],
   "source": [
    "def get_list_by_class_name(class_name):\n",
    "    \"\"\"Get list of text in all element by class_name\"\"\"\n",
    "    element_list = []\n",
    "    try:\n",
    "        all_elements = driver.find_elements_by_class_name(class_name)\n",
    "        element_list = [x.text for x in all_elements if len(x.text) > 0]\n",
    "    except (NoSuchElementException, WebDriverException) as e:\n",
    "        print(e)\n",
    "    return element_list"
   ]
  },
  {
   "cell_type": "code",
   "execution_count": 5,
   "id": "04186aab",
   "metadata": {},
   "outputs": [],
   "source": [
    "months1 = ['Jan','Feb','Mar','Apr','May','Jun']\n",
    "months2 = ['Aug','Sep','Oct','Nov','Dec']"
   ]
  },
  {
   "cell_type": "code",
   "execution_count": 6,
   "id": "1b809c69",
   "metadata": {},
   "outputs": [],
   "source": [
    "### Months is list of links of all months from year 2016 to year 2021 June\n",
    "Months = []\n",
    "for month in months1:\n",
    "    m1 = func1(month)\n",
    "    for i in range(6,12):     ### Modify range to change years \n",
    "        Months.append(m1[i].get_attribute(\"href\"))\n",
    "        \n",
    "for month in months2:\n",
    "    m2 = func1(month)\n",
    "    for i in range(7,12):\n",
    "        Months.append(m2[i].get_attribute(\"href\"))\n",
    "        \n",
    "July = func1('Jul')\n",
    "for i in range(6,11):\n",
    "    Months.append(July[i].get_attribute(\"href\"))   "
   ]
  },
  {
   "cell_type": "code",
   "execution_count": 7,
   "id": "1360aed7",
   "metadata": {},
   "outputs": [
    {
     "data": {
      "text/plain": [
       "66"
      ]
     },
     "execution_count": 7,
     "metadata": {},
     "output_type": "execute_result"
    }
   ],
   "source": [
    "len(Months)"
   ]
  },
  {
   "cell_type": "code",
   "execution_count": 5,
   "id": "5c1c6de9",
   "metadata": {},
   "outputs": [],
   "source": [
    "### To establish connection with database db_file\n",
    "def create_connection(db_file):\n",
    "    \"\"\" create a database connection to the SQLite database\n",
    "        specified by the db_file\n",
    "    :param db_file: database file\n",
    "    :return: Connection object or None\n",
    "    \"\"\"\n",
    "    conn = None\n",
    "    try:\n",
    "        conn = sqlite3.connect(db_file)\n",
    "    except Error as e:\n",
    "        print(e)\n",
    "\n",
    "    return conn"
   ]
  },
  {
   "cell_type": "code",
   "execution_count": 10,
   "id": "34875bf9",
   "metadata": {},
   "outputs": [
    {
     "data": {
      "text/plain": [
       "<sqlite3.Cursor at 0x26935a918f0>"
      ]
     },
     "execution_count": 10,
     "metadata": {},
     "output_type": "execute_result"
    }
   ],
   "source": [
    "### created SQLITE TABLE date_link_tb which have links for each day between 2016 to 2021 June\n",
    "### have column processed which is 0 and become 1 if extract all articles link of that day \n",
    "curr.execute(\"\"\"create table date_link_tb(\n",
    "            date_id INTEGER PRIMARY KEY,\n",
    "            link TEXT,\n",
    "            processed INTEGER)\"\"\")"
   ]
  },
  {
   "cell_type": "code",
   "execution_count": 6,
   "id": "c33b3c15",
   "metadata": {},
   "outputs": [],
   "source": [
    "### function to insert links of each day in date_link_tb TABLE\n",
    "\n",
    "def insertDateLinkIntoTable(date_id , link , processed):\n",
    "    try:\n",
    "        sqliteConnection = sqlite3.connect('ArticlesDatabase.db')\n",
    "        cursor = sqliteConnection.cursor()\n",
    "        print(\"Connected to SQLite\")\n",
    "\n",
    "        sqlite_insert_with_param = \"\"\"insert into date_link_tb(date_id , link , processed) values (?,?,?);\"\"\"\n",
    "\n",
    "        data_tuple = (date_id , link , processed)\n",
    "        cursor.execute(sqlite_insert_with_param, data_tuple)\n",
    "        sqliteConnection.commit()\n",
    "        print(\"Python Variables inserted successfully in date_link_tb\")\n",
    "\n",
    "        cursor.close()\n",
    "\n",
    "    except sqlite3.Error as error:\n",
    "        print(\"Failed to insert Python variable into sqlite table\", error)\n",
    "    finally:\n",
    "        if sqliteConnection:\n",
    "            sqliteConnection.close()\n",
    "            print(\"The SQLite connection is closed\")"
   ]
  },
  {
   "cell_type": "code",
   "execution_count": 7,
   "id": "e82e19a9",
   "metadata": {},
   "outputs": [],
   "source": [
    "### function to get link given Text of that link\n",
    "def get_link_by_text(text):\n",
    "    \"\"\"Find link in the page with given text\"\"\"\n",
    "    element = driver.find_element_by_link_text(text.strip())\n",
    "    \n",
    "    return element.get_attribute(\"href\")"
   ]
  },
  {
   "cell_type": "code",
   "execution_count": null,
   "id": "192d1d9b",
   "metadata": {},
   "outputs": [],
   "source": [
    "###  insert links of each day\n",
    "date_id = 0\n",
    "for m in Months:\n",
    "    driver.get(m)\n",
    "    time.sleep(2)\n",
    "    DAYS = get_list_by_class_name(\"ui-state-default\")\n",
    "    for j in DAYS:\n",
    "        date_id = date_id + 1\n",
    "        insertDateLinkIntoTable(date_id,get_link_by_text(j),0)"
   ]
  },
  {
   "cell_type": "code",
   "execution_count": 11,
   "id": "9cf3a2c1",
   "metadata": {},
   "outputs": [
    {
     "data": {
      "text/plain": [
       "<sqlite3.Cursor at 0x1dcaebd7500>"
      ]
     },
     "execution_count": 11,
     "metadata": {},
     "output_type": "execute_result"
    }
   ],
   "source": [
    "### created SQLITE table to store links of articles with its title and label \n",
    "### there is a column \"used\" = 0 by default but become 1 if article text is extracted of that day\n",
    "curr.execute(\"\"\"create table articles_link_tb(\n",
    "            art_id INTEGER PRIMARY KEY,\n",
    "            title TEXT,\n",
    "            link TEXT,\n",
    "            label TEXT,\n",
    "            used INTEGER)\"\"\")"
   ]
  },
  {
   "cell_type": "code",
   "execution_count": 18,
   "id": "ad6e054a",
   "metadata": {},
   "outputs": [
    {
     "data": {
      "text/plain": [
       "<sqlite3.Cursor at 0x26935a918f0>"
      ]
     },
     "execution_count": 18,
     "metadata": {},
     "output_type": "execute_result"
    }
   ],
   "source": [
    "### created SQLITE table to store article text with its label \n",
    "curr.execute(\"\"\"create table articles_tb(\n",
    "            article_id INTEGER PRIMARY KEY,\n",
    "            article TEXT,\n",
    "            label TEXT)\"\"\")"
   ]
  },
  {
   "cell_type": "code",
   "execution_count": 8,
   "id": "c48e03c3",
   "metadata": {},
   "outputs": [],
   "source": [
    "### function to insert article links with its title and label in sqlite table articles_link_tb\n",
    "def insertVaribleIntoLinkTable(art_id , title , link, label):\n",
    "    try:\n",
    "        sqliteConnection = sqlite3.connect('ArticlesDatabase.db')\n",
    "        cursor = sqliteConnection.cursor()\n",
    "        print(\"Connected to SQLite\")\n",
    "\n",
    "        sqlite_insert_with_param = \"\"\"insert into articles_link_tb(art_id,title,link,label, used) values (?,?,?,?,?);\"\"\"\n",
    "\n",
    "        data_tuple = (art_id,title,link,label,0)\n",
    "        cursor.execute(sqlite_insert_with_param, data_tuple)\n",
    "        sqliteConnection.commit()\n",
    "        print(\"Python Variables inserted successfully in articles_link_tb\")\n",
    "\n",
    "        cursor.close()\n",
    "\n",
    "    except sqlite3.Error as error:\n",
    "        print(\"Failed to insert Python variable into sqlite table\", error)\n",
    "    finally:\n",
    "        if sqliteConnection:\n",
    "            sqliteConnection.close()\n",
    "            print(\"The SQLite connection is closed\")"
   ]
  },
  {
   "cell_type": "code",
   "execution_count": 11,
   "id": "39ce4161",
   "metadata": {},
   "outputs": [],
   "source": [
    "### calculate number of rows in date_link_tb which is exactly number of days\n",
    "conn = create_connection('ArticlesDatabase.db')\n",
    "curr = conn.cursor()\n",
    "curr.execute(\"\"\"SELECT COUNT(*) FROM date_link_tb \"\"\")\n",
    "num = curr.fetchone()\n",
    "no_days = num[0]\n",
    "curr.close()"
   ]
  },
  {
   "cell_type": "code",
   "execution_count": 12,
   "id": "321da79b",
   "metadata": {},
   "outputs": [
    {
     "data": {
      "text/plain": [
       "1987"
      ]
     },
     "execution_count": 12,
     "metadata": {},
     "output_type": "execute_result"
    }
   ],
   "source": [
    "no_days"
   ]
  },
  {
   "cell_type": "code",
   "execution_count": 13,
   "id": "d393df1b",
   "metadata": {},
   "outputs": [],
   "source": [
    "### function to update table date_link_tb column - processed to 1 \n",
    "### if the links of all articles of that day are extracted successfully \n",
    "def update_finished_date(date_id):\n",
    "    try:\n",
    "        sqliteConnection = sqlite3.connect('ArticlesDatabase.db')\n",
    "        cursor = sqliteConnection.cursor()\n",
    "        print(\"Connected to SQLite\")\n",
    "\n",
    "        query = \"UPDATE date_link_tb SET processed = 1 WHERE date_id =\" + str(date_id)\n",
    "\n",
    "        cursor.execute(query)\n",
    "        sqliteConnection.commit()\n",
    "        print(\"Python Variables updated successfully in date_link_tb\")\n",
    "        \n",
    "        cursor.close()\n",
    "\n",
    "    except sqlite3.Error as error:\n",
    "        print(\"Failed to update Python variable into sqlite table\", error)\n",
    "    finally:\n",
    "        if sqliteConnection:\n",
    "            sqliteConnection.close()\n",
    "            print(\"The SQLite connection is closed\")\n",
    "    "
   ]
  },
  {
   "cell_type": "code",
   "execution_count": 14,
   "id": "e6d6e883",
   "metadata": {},
   "outputs": [],
   "source": [
    "### function to extract links of particular day by its date_id and it return 1 if already processed\n",
    "def get_link_by_date(d):\n",
    "    try:\n",
    "        sqliteConnection = sqlite3.connect('ArticlesDatabase.db')\n",
    "        cursor = sqliteConnection.cursor()\n",
    "        print(\"Connected to SQLite\")\n",
    "\n",
    "        query = \"SELECT link FROM date_link_tb WHERE date_id = \" + str(d) + \" AND processed = 0 \"\n",
    "        cursor.execute(query)\n",
    "        l = cursor.fetchone()\n",
    "        \n",
    "        sqliteConnection.commit()\n",
    "        print(\"link selected successfully from date_link_tb\")\n",
    "        \n",
    "        cursor.close()\n",
    "    except sqlite3.Error as e:\n",
    "        print(\"Failed to select link from date_link_tb\",e)\n",
    "    \n",
    "    finally:\n",
    "        if l == None:\n",
    "            return 1\n",
    "        else:\n",
    "            return l[0]"
   ]
  },
  {
   "cell_type": "code",
   "execution_count": 15,
   "id": "55b846d4",
   "metadata": {},
   "outputs": [],
   "source": [
    "### function to get count the number of article links stored in articles_link_tb\n",
    "def get_art_id():\n",
    "    try:\n",
    "        sqliteConnection = sqlite3.connect('ArticlesDatabase.db')\n",
    "        cursor = sqliteConnection.cursor()\n",
    "        print(\"Connected to SQLite\")\n",
    "\n",
    "        query = \"\"\"SELECT COUNT(*) FROM articles_link_tb \"\"\"\n",
    "        cursor.execute(query)\n",
    "        l = cursor.fetchone()\n",
    "        count = l[0]\n",
    "\n",
    "        sqliteConnection.commit()\n",
    "        print(\"successfully count the rows in articles_link_tb\")\n",
    "\n",
    "        cursor.close()\n",
    "    except sqlite3.Error as e:\n",
    "        print(\"Failed to count from articles_link_tb\",e)\n",
    "    finally:\n",
    "        if sqliteConnection:\n",
    "            sqliteConnection.close()\n",
    "            print(\"The SQLite connection is closed\")\n",
    "        return count\n"
   ]
  },
  {
   "cell_type": "code",
   "execution_count": null,
   "id": "91559806",
   "metadata": {},
   "outputs": [],
   "source": [
    "### this code extract all articles link of 1987 days \n",
    "### this code handle No Internet exception \n",
    "### when intenet comes just run this block of code and you are good to go.\n",
    "\n",
    "art_id = get_art_id()\n",
    "\n",
    "for d in range(no_days):   \n",
    "    link = get_link_by_date(d)\n",
    "    if link == 1:\n",
    "        continue\n",
    "    try:\n",
    "        driver.get(link)\n",
    "        time.sleep(5)    ### wait for 5 seconds to load the page completely\n",
    "        k = driver.find_element_by_id('subnav-tpbar-latest');\n",
    "        classes =  k.find_elements_by_tag_name('a');\n",
    "        \n",
    "        ## number of classes present in that day \n",
    "        num = len(classes)\n",
    "        \n",
    "        # this is the last element we need to extract if it loads properly then we proceed further \n",
    "        # if not it raise an exception and it then just jump to next day \n",
    "        ch = driver.find_element_by_id('section_' + str(num))   \n",
    "    except :\n",
    "        continue\n",
    "        \n",
    "    ## we are here it means page load completely now it extract all the articles link with coressponding label\n",
    "            \n",
    "    for i in range(1,num+1):\n",
    "        try:\n",
    "            articles = driver.find_element_by_id('section_' + str(i))\n",
    "            t = articles.find_element_by_class_name('archive-list')\n",
    "            articles_list = t.find_elements_by_tag_name('a')\n",
    "            li = len(articles_list)\n",
    "        except:\n",
    "            break\n",
    "            \n",
    "        else:\n",
    "            for j in range(li):\n",
    "                art_id = art_id + 1\n",
    "                title = articles_list[j].text\n",
    "                link = articles_list[j].get_attribute(\"href\")\n",
    "                label = classes[i-1].text\n",
    "                insertVaribleIntoLinkTable(art_id , title , link,label)\n",
    "            \n",
    "    \n",
    "    else:  ## it try block work then all the links are extracted of that day now we have to set processed = 1 of that day\n",
    "        update_finished_date(d)\n",
    "       "
   ]
  }
 ],
 "metadata": {
  "kernelspec": {
   "display_name": "Python 3",
   "language": "python",
   "name": "python3"
  },
  "language_info": {
   "codemirror_mode": {
    "name": "ipython",
    "version": 3
   },
   "file_extension": ".py",
   "mimetype": "text/x-python",
   "name": "python",
   "nbconvert_exporter": "python",
   "pygments_lexer": "ipython3",
   "version": "3.8.8"
  }
 },
 "nbformat": 4,
 "nbformat_minor": 5
}
