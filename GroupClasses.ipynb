{
 "cells": [
  {
   "cell_type": "code",
   "execution_count": 1,
   "id": "bcdd599a",
   "metadata": {},
   "outputs": [],
   "source": [
    "import sqlite3\n",
    "import pandas as pd"
   ]
  },
  {
   "cell_type": "code",
   "execution_count": 2,
   "id": "7e4e7d66",
   "metadata": {},
   "outputs": [],
   "source": [
    "def create_connection(db_file):\n",
    "    \"\"\" create a database connection to the SQLite database\n",
    "        specified by the db_file\n",
    "    :param db_file: database file\n",
    "    :return: Connection object or None\n",
    "    \"\"\"\n",
    "    conn = None\n",
    "    try:\n",
    "        conn = sqlite3.connect(db_file)\n",
    "    except Error as e:\n",
    "        print(e)\n",
    "\n",
    "    return conn"
   ]
  },
  {
   "cell_type": "code",
   "execution_count": 3,
   "id": "bdd2fbab",
   "metadata": {},
   "outputs": [],
   "source": [
    "def modify_class(query):\n",
    "    try:\n",
    "        sqliteConnection = sqlite3.connect('ArticlesDatabase.db')\n",
    "        cursor = sqliteConnection.cursor()\n",
    "        print(\"Connected to SQLite\")\n",
    "\n",
    "        cursor.execute(query)\n",
    "        sqliteConnection.commit()\n",
    "        print(\"Python Variables updated successfully in articles_link_tb\")\n",
    "        \n",
    "        cursor.close()\n",
    "\n",
    "    except sqlite3.Error as error:\n",
    "        print(\"Failed to update Python variable into sqlite table\", error)\n",
    "    finally:\n",
    "        if sqliteConnection:\n",
    "            sqliteConnection.close()\n",
    "            print(\"The SQLite connection is closed\")"
   ]
  },
  {
   "cell_type": "code",
   "execution_count": 19,
   "id": "e8717f77",
   "metadata": {},
   "outputs": [
    {
     "name": "stdout",
     "output_type": "stream",
     "text": [
      "Connected to SQLite\n",
      "Python Variables updated successfully in articles_link_tb\n",
      "The SQLite connection is closed\n"
     ]
    }
   ],
   "source": [
    "query = \"\"\"UPDATE articles_tb SET label = \"Elections\" \n",
    "WHERE label = \"Lok Sabha Election\" \n",
    "OR  label = \"Rajasthan 2018\"\n",
    "OR label = \"Chhattisgarh 2018\" \n",
    "OR label = \"Gujarat 2017\" \n",
    "OR label = \"Jharkhand\" \n",
    "OR label = \"Madhya Pradesh 2018\" \n",
    "OR label= \"Haryana\" \n",
    "OR label = \"Tamil Nadu 2016\" \n",
    "OR label = \"Uttar Pradesh 2017\" \n",
    "OR label= \"Delhi 2020\" \n",
    "OR label= \"Karnataka 2018\" \n",
    "OR label= \"West Bengal Assembly Elections 2016\"\n",
    "OR label= \"Assembly Elections\" \n",
    "OR label = \"Arunachal Pradesh\"\n",
    "OR label = \"Bihar\" \n",
    "OR label = \"Assam\" \n",
    "OR label = \"Himachal Pradesh 2017\" \n",
    "OR label = \"Punjab 2017\"\n",
    "OR label = \"Uttarakhand 2017\"\n",
    "OR label = \"Odisha\" \n",
    "OR label = \"Manipur 2017\"\n",
    "OR label = \"Assam 2016\" \n",
    "OR label = \"Goa 2017\" \n",
    "OR label = \"Tripura 2018\" \n",
    "OR label = \"Sikkim\" \n",
    "OR label = \"Puducherry Assembly Elections 2016\" \n",
    "OR label = \"Meghalaya 2018\" \n",
    "OR label = \"Nagaland 2018\" \n",
    "OR label = \"Mizoram 2018\"\n",
    "OR label = \"Telangana 2018\"\n",
    "\"\"\"\n",
    "modify_class(query)"
   ]
  },
  {
   "cell_type": "code",
   "execution_count": 8,
   "id": "411c52ed",
   "metadata": {},
   "outputs": [
    {
     "name": "stdout",
     "output_type": "stream",
     "text": [
      "Connected to SQLite\n",
      "Python Variables updated successfully in articles_link_tb\n",
      "The SQLite connection is closed\n"
     ]
    }
   ],
   "source": [
    "query = \"\"\"UPDATE articles_tb SET label = \"Education\" \n",
    "WHERE label = \"Careers\" \n",
    "OR label = \"Colleges\" \n",
    "OR label = \"Schools\" \"\"\"\n",
    "\n",
    "modify_class(query)"
   ]
  },
  {
   "cell_type": "code",
   "execution_count": 9,
   "id": "f2ace295",
   "metadata": {},
   "outputs": [
    {
     "name": "stdout",
     "output_type": "stream",
     "text": [
      "Connected to SQLite\n",
      "Python Variables updated successfully in articles_link_tb\n",
      "The SQLite connection is closed\n"
     ]
    }
   ],
   "source": [
    "query = \"\"\"UPDATE articles_tb SET label = \"Cricket\" \n",
    "WHERE label = \"Indian Premier League\" \n",
    "OR label = \"World Cup\"  \"\"\"\n",
    "\n",
    "modify_class(query)"
   ]
  },
  {
   "cell_type": "code",
   "execution_count": 10,
   "id": "4defba91",
   "metadata": {},
   "outputs": [
    {
     "name": "stdout",
     "output_type": "stream",
     "text": [
      "Connected to SQLite\n",
      "Python Variables updated successfully in articles_link_tb\n",
      "The SQLite connection is closed\n"
     ]
    }
   ],
   "source": [
    "query = \"\"\"UPDATE articles_tb SET label = \"International\" \n",
    "WHERE label = \"World\" \n",
    "OR label = \"South Asia\" \"\"\"\n",
    "\n",
    "modify_class(query)"
   ]
  },
  {
   "cell_type": "code",
   "execution_count": 11,
   "id": "3e8ab5b2",
   "metadata": {},
   "outputs": [
    {
     "name": "stdout",
     "output_type": "stream",
     "text": [
      "Connected to SQLite\n",
      "Python Variables updated successfully in articles_link_tb\n",
      "The SQLite connection is closed\n"
     ]
    }
   ],
   "source": [
    "query = \"\"\"UPDATE articles_tb SET label = \"Sci-Tech\" \n",
    "WHERE label = \"Science\" \n",
    "OR label = \"Technology\" \n",
    "OR label = \"Internet\" \n",
    "OR label = \"Gadgets\" \"\"\"\n",
    "\n",
    "modify_class(query)"
   ]
  },
  {
   "cell_type": "code",
   "execution_count": 12,
   "id": "38226815",
   "metadata": {},
   "outputs": [
    {
     "name": "stdout",
     "output_type": "stream",
     "text": [
      "Connected to SQLite\n",
      "Python Variables updated successfully in articles_link_tb\n",
      "The SQLite connection is closed\n"
     ]
    }
   ],
   "source": [
    "query = \"\"\"UPDATE articles_tb SET label = \"Entertainment\" \n",
    "WHERE label = \"Dance\" \n",
    "OR label = \"Music\" \n",
    "OR label = \"Art\" \n",
    "OR label = \"Movies\" \n",
    "OR label = \"Theatre\"\n",
    "OR label = \"Cinema\" \n",
    "OR label = \"Television\" \n",
    "\"\"\"\n",
    "modify_class(query)"
   ]
  },
  {
   "cell_type": "code",
   "execution_count": 13,
   "id": "33b47742",
   "metadata": {},
   "outputs": [
    {
     "name": "stdout",
     "output_type": "stream",
     "text": [
      "Connected to SQLite\n",
      "Python Variables updated successfully in articles_link_tb\n",
      "The SQLite connection is closed\n"
     ]
    }
   ],
   "source": [
    "query = \"\"\"UPDATE articles_tb SET label = \"Life & Style\" \n",
    "WHERE label = \"Fashion\" \n",
    "OR label = \"Fitness\" \n",
    "OR label = \"Travel\" \n",
    "OR label = \"Homes And Gardens\" \n",
    "OR label = \"Luxury\"\n",
    "OR label = \"Food\" \n",
    "\"\"\"\n",
    "modify_class(query)"
   ]
  },
  {
   "cell_type": "code",
   "execution_count": 14,
   "id": "2962eeb8",
   "metadata": {},
   "outputs": [
    {
     "name": "stdout",
     "output_type": "stream",
     "text": [
      "Connected to SQLite\n",
      "Python Variables updated successfully in articles_link_tb\n",
      "The SQLite connection is closed\n"
     ]
    }
   ],
   "source": [
    "query = \"\"\"UPDATE articles_tb SET label = \"Society\" \n",
    "WHERE label = \"Faith\" \n",
    "OR label = \"History & Culture\" \n",
    "\"\"\"\n",
    "modify_class(query)"
   ]
  },
  {
   "cell_type": "code",
   "execution_count": 21,
   "id": "b24e76a5",
   "metadata": {},
   "outputs": [
    {
     "name": "stdout",
     "output_type": "stream",
     "text": [
      "Connected to SQLite\n",
      "Python Variables updated successfully in articles_link_tb\n",
      "The SQLite connection is closed\n"
     ]
    }
   ],
   "source": [
    "query = \"\"\"UPDATE articles_tb SET label = \"Business\" \n",
    "WHERE label = \"Industry\" \n",
    "OR label = \"Economy\" \n",
    "OR label = \"Agri-Business\" \n",
    "OR label = \"Budget 2021\" \n",
    "OR label = \"Markets\"\n",
    "\"\"\"\n",
    "modify_class(query)"
   ]
  },
  {
   "cell_type": "code",
   "execution_count": 16,
   "id": "09d48c41",
   "metadata": {},
   "outputs": [
    {
     "name": "stdout",
     "output_type": "stream",
     "text": [
      "Connected to SQLite\n",
      "Python Variables updated successfully in articles_link_tb\n",
      "The SQLite connection is closed\n"
     ]
    }
   ],
   "source": [
    "query = \"\"\"UPDATE articles_tb SET label = \"Motorsport\" \n",
    "WHERE label = \"Formula One\" \n",
    "\"\"\"\n",
    "modify_class(query)"
   ]
  },
  {
   "cell_type": "code",
   "execution_count": 17,
   "id": "b0755105",
   "metadata": {},
   "outputs": [
    {
     "name": "stdout",
     "output_type": "stream",
     "text": [
      "Connected to SQLite\n",
      "Python Variables updated successfully in articles_link_tb\n",
      "The SQLite connection is closed\n"
     ]
    }
   ],
   "source": [
    "query = \"\"\"UPDATE articles_tb SET label = \"Books\" \n",
    "WHERE label = \"Authors\" \n",
    "\"\"\"\n",
    "modify_class(query)"
   ]
  },
  {
   "cell_type": "code",
   "execution_count": null,
   "id": "eea12f83",
   "metadata": {},
   "outputs": [],
   "source": [
    "query = \"\"\"UPDATE articles_tb SET label = \"Other Sports\" \n",
    "WHERE label = \"Races\" \n",
    "OR label = \"Motorsport\" \n",
    "OR label = \"Athletics\" \n",
    "OR label = \"Hockey\"\n",
    "\"\"\"\n",
    "modify_class(query)"
   ]
  }
 ],
 "metadata": {
  "kernelspec": {
   "display_name": "Python 3",
   "language": "python",
   "name": "python3"
  },
  "language_info": {
   "codemirror_mode": {
    "name": "ipython",
    "version": 3
   },
   "file_extension": ".py",
   "mimetype": "text/x-python",
   "name": "python",
   "nbconvert_exporter": "python",
   "pygments_lexer": "ipython3",
   "version": "3.8.8"
  }
 },
 "nbformat": 4,
 "nbformat_minor": 5
}
